{
 "cells": [
  {
   "cell_type": "code",
   "execution_count": 1,
   "id": "319870fb",
   "metadata": {},
   "outputs": [],
   "source": [
    "import pandas as pd\n",
    "import requests\n",
    "from bs4 import BeautifulSoup \n",
    "import numpy as np\n",
    "from urllib.request import urlopen"
   ]
  },
  {
   "cell_type": "code",
   "execution_count": null,
   "id": "30d394ca",
   "metadata": {},
   "outputs": [],
   "source": []
  },
  {
   "cell_type": "code",
   "execution_count": 2,
   "id": "c8a20da7",
   "metadata": {},
   "outputs": [],
   "source": [
    "headers={'User-Agent':'Mozilla/5.0 (Windows NT 6.3; Win 64 ; x64) Apple WeKit /537.36(KHTML , like Gecko) Chrome/80.0.3987.162 Safari/537.36'} "
   ]
  },
  {
   "cell_type": "code",
   "execution_count": 3,
   "id": "9f42c476",
   "metadata": {},
   "outputs": [],
   "source": [
    "flipkart_url = 'https://www.flipkart.com/boat-nirvana-ion-120-hours-playback-crystal-bionic-sound-hifi-dsp-5-bluetooth-headset/p/itmdae6642f66385?pid=ACCGNFV3VGRBUHTQ&lid=LSTACCGNFV3VGRBUHTQO8FINP&marketplace=FLIPKART&q=headphones+boat&store=0pm%2Ffcn&srno=s_1_3&otracker=AS_QueryStore_OrganicAutoSuggest_3_4_na_na_na&otracker1=AS_QueryStore_OrganicAutoSuggest_3_4_na_na_na&fm=search-autosuggest&iid=a57bb8f5-4a79-4fb2-90c2-eff98b20e004.ACCGNFV3VGRBUHTQ.SEARCH&ppt=sp&ppn=sp&ssid=x5dbaeni5s0000001716394974626&qH=e9698ba16f3a3269'"
   ]
  },
  {
   "cell_type": "code",
   "execution_count": 4,
   "id": "bf833ee8",
   "metadata": {},
   "outputs": [],
   "source": [
    "urlClient = urlopen(flipkart_url)"
   ]
  },
  {
   "cell_type": "code",
   "execution_count": 5,
   "id": "6fb73e8a",
   "metadata": {},
   "outputs": [
    {
     "data": {
      "text/plain": [
       "<http.client.HTTPResponse at 0x16d70aca5c0>"
      ]
     },
     "execution_count": 5,
     "metadata": {},
     "output_type": "execute_result"
    }
   ],
   "source": [
    "urlClient"
   ]
  },
  {
   "cell_type": "code",
   "execution_count": 6,
   "id": "190bf424",
   "metadata": {},
   "outputs": [],
   "source": [
    "flipkart_page= urlClient.read()"
   ]
  },
  {
   "cell_type": "code",
   "execution_count": 7,
   "id": "21012d41",
   "metadata": {},
   "outputs": [],
   "source": [
    "flipkart_html = BeautifulSoup(flipkart_page,'html.parser')"
   ]
  },
  {
   "cell_type": "code",
   "execution_count": 8,
   "id": "a637d153",
   "metadata": {},
   "outputs": [],
   "source": [
    "bigBox = flipkart_html.findAll('div',{\"class\":\"col EPCmJX\"})"
   ]
  },
  {
   "cell_type": "code",
   "execution_count": 9,
   "id": "1b7c9ca8",
   "metadata": {},
   "outputs": [],
   "source": [
    "length = len(bigBox)"
   ]
  },
  {
   "cell_type": "code",
   "execution_count": 10,
   "id": "7c978ba3",
   "metadata": {},
   "outputs": [
    {
     "data": {
      "text/plain": [
       "'5'"
      ]
     },
     "execution_count": 10,
     "metadata": {},
     "output_type": "execute_result"
    }
   ],
   "source": [
    "bigBox[0].div.div.text"
   ]
  },
  {
   "cell_type": "code",
   "execution_count": 11,
   "id": "0fb7620c",
   "metadata": {},
   "outputs": [
    {
     "data": {
      "text/plain": [
       "'Awesome'"
      ]
     },
     "execution_count": 11,
     "metadata": {},
     "output_type": "execute_result"
    }
   ],
   "source": [
    "bigBox[0].div.p.text"
   ]
  },
  {
   "cell_type": "code",
   "execution_count": 12,
   "id": "30267f0a",
   "metadata": {},
   "outputs": [
    {
     "data": {
      "text/plain": [
       "'5'"
      ]
     },
     "execution_count": 12,
     "metadata": {},
     "output_type": "execute_result"
    }
   ],
   "source": [
    "bigBox[1].div.div.text"
   ]
  },
  {
   "cell_type": "code",
   "execution_count": 13,
   "id": "3f2db054",
   "metadata": {},
   "outputs": [
    {
     "data": {
      "text/plain": [
       "'Great product'"
      ]
     },
     "execution_count": 13,
     "metadata": {},
     "output_type": "execute_result"
    }
   ],
   "source": [
    "bigBox[1].div.p.text"
   ]
  },
  {
   "cell_type": "code",
   "execution_count": 14,
   "id": "713fdfde",
   "metadata": {},
   "outputs": [],
   "source": [
    "rating = []\n",
    "review =[]\n",
    "des_of_review = []"
   ]
  },
  {
   "cell_type": "code",
   "execution_count": 15,
   "id": "d318bdc2",
   "metadata": {},
   "outputs": [],
   "source": [
    "for i in range(0,10):\n",
    "    rating.append(bigBox[i].div.div.text)"
   ]
  },
  {
   "cell_type": "code",
   "execution_count": 16,
   "id": "d78a4847",
   "metadata": {},
   "outputs": [
    {
     "data": {
      "text/plain": [
       "['5', '5', '5', '5', '5', '5', '5', '5', '5', '4']"
      ]
     },
     "execution_count": 16,
     "metadata": {},
     "output_type": "execute_result"
    }
   ],
   "source": [
    "rating"
   ]
  },
  {
   "cell_type": "code",
   "execution_count": 17,
   "id": "efdfb91d",
   "metadata": {},
   "outputs": [],
   "source": [
    "for i in bigBox:\n",
    "    review.append(i.div.p.text)"
   ]
  },
  {
   "cell_type": "code",
   "execution_count": 18,
   "id": "65e6553a",
   "metadata": {},
   "outputs": [
    {
     "data": {
      "text/plain": [
       "['Awesome',\n",
       " 'Great product',\n",
       " 'Fabulous!',\n",
       " 'Just wow!',\n",
       " 'Fabulous!',\n",
       " 'Great product',\n",
       " 'Highly recommended',\n",
       " 'Perfect product!',\n",
       " 'Mind-blowing purchase',\n",
       " 'Value-for-money']"
      ]
     },
     "execution_count": 18,
     "metadata": {},
     "output_type": "execute_result"
    }
   ],
   "source": [
    "review"
   ]
  },
  {
   "cell_type": "code",
   "execution_count": 19,
   "id": "f08ccac2",
   "metadata": {},
   "outputs": [],
   "source": [
    "description = flipkart_html.find_all('div',{'class':'ZmyHeo'})"
   ]
  },
  {
   "cell_type": "code",
   "execution_count": 20,
   "id": "3f52101c",
   "metadata": {},
   "outputs": [
    {
     "data": {
      "text/plain": [
       "10"
      ]
     },
     "execution_count": 20,
     "metadata": {},
     "output_type": "execute_result"
    }
   ],
   "source": [
    "len(description)"
   ]
  },
  {
   "cell_type": "code",
   "execution_count": 21,
   "id": "69fa335a",
   "metadata": {},
   "outputs": [],
   "source": [
    "for i in range(0,10):\n",
    "    des_of_review.append(description[i].text)"
   ]
  },
  {
   "cell_type": "code",
   "execution_count": null,
   "id": "f044c001",
   "metadata": {},
   "outputs": [],
   "source": [
    "for i in range(1,678):\n",
    "    flipkart_url=\"https://www.flipkart.com/boat-nirvana-ion-120-hours-playback-crystal-bionic-sound-hifi-dsp-5-bluetooth-headset/product-reviews/itmdae6642f66385?pid=ACCGNFV3VGRBUHTQ&lid=LSTACCGNFV3VGRBUHTQO8FINP&marketplace=FLIPKART&page=i\"\n",
    "    urlClient = requests.get(flipkart_url,headers=headers).text\n",
    "#     flipkart_page = urlClient.read()\n",
    "    flipkart_html = BeautifulSoup(flipkart_page,'html.parser')\n",
    "    rating = []\n",
    "    review =[]\n",
    "    des_of_review = []\n",
    "    bigBox = flipkart_html.findAll('div',{\"class\":\"col EPCmJX\"})\n",
    "    description = flipkart_html.find_all('div',{'class':'ZmyHeo'})\n",
    "    \n",
    "    for i in range(0,10):\n",
    "        try:\n",
    "            rating.append(bigBox[i].div.div.text)\n",
    "        except:\n",
    "            rating.append(np.nan)\n",
    "        \n",
    "        try:\n",
    "            review.append(i.div.p.text)\n",
    "        except:\n",
    "            review.append(np.nan)\n",
    "        \n",
    "        try:\n",
    "            des_of_review.append(description[i].text)\n",
    "        except:\n",
    "            des_of_review.append(np.nan)\n",
    "            \n",
    "    "
   ]
  },
  {
   "cell_type": "code",
   "execution_count": 48,
   "id": "846712f2",
   "metadata": {},
   "outputs": [],
   "source": [
    "df = pd.DataFrame({'Rating':rating,\n",
    "                 'Review':review,\n",
    "                 'Description':des_of_review})"
   ]
  },
  {
   "cell_type": "code",
   "execution_count": 54,
   "id": "6bd43df6",
   "metadata": {},
   "outputs": [
    {
     "data": {
      "text/plain": [
       "(10, 3)"
      ]
     },
     "execution_count": 54,
     "metadata": {},
     "output_type": "execute_result"
    }
   ],
   "source": [
    "df.shape"
   ]
  },
  {
   "cell_type": "code",
   "execution_count": null,
   "id": "bcd7cf1e",
   "metadata": {},
   "outputs": [],
   "source": []
  }
 ],
 "metadata": {
  "kernelspec": {
   "display_name": "Python 3 (ipykernel)",
   "language": "python",
   "name": "python3"
  },
  "language_info": {
   "codemirror_mode": {
    "name": "ipython",
    "version": 3
   },
   "file_extension": ".py",
   "mimetype": "text/x-python",
   "name": "python",
   "nbconvert_exporter": "python",
   "pygments_lexer": "ipython3",
   "version": "3.11.5"
  }
 },
 "nbformat": 4,
 "nbformat_minor": 5
}
